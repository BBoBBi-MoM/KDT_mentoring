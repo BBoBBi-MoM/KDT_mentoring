{
 "cells": [
  {
   "attachments": {},
   "cell_type": "markdown",
   "metadata": {},
   "source": [
    "### 1. 리스트와 반복문의 이해\n",
    "컬러 이미지는 3차원의 정보(channel x height x width)를 담고 있습니다.  \n",
    "아래 제공된 rgb_img는 첫번째 차원에 체널을 두번째 차원에 높이, 세번째 차원에 폭의 정보를 담고 있습니다.(3x50x100)  \n",
    "gray_img는 [[[...], [...], [...], ..., [...]]] 과 같은 구조의 1체널 이미지입니다.(1x100x100)  \n",
    "(img[0]: 첫번째 체널, img[2]: 세번째 차원, img[c][10]: c체널의 11번째 행, img[c][h][w]: c체널에서 h행과 w열이 교차하는 픽셀 값 하나)\n",
    "* rgb_img에서 255값을 가지는 위치(인덱스)를 (체널, 높이, 폭) 형식의 튜플로 리스트에 저장하시오.\n",
    "* rgb_img의 각 체널별로 평균을 구하고 리스트에 저장하시오.\n",
    "* 새로운 배열(리스트)를 만들어 gray_img의 색을 반전한 후 저장하시오. (0->255, 1->254, 2->253, ...,  254->1, 255->0)\n",
    "\n",
    "\n",
    "---"
   ]
  },
  {
   "cell_type": "code",
   "execution_count": 122,
   "metadata": {},
   "outputs": [],
   "source": [
    "import random\n",
    "random.seed('20230621')\n",
    "def img_generator(channel: int, height: int, width: int):\n",
    "    img = []\n",
    "    for c in range(channel):\n",
    "        img.append([])\n",
    "        for h in range(height):\n",
    "            img[c].append([])\n",
    "            for _ in range(width):\n",
    "                img[c][h].append(random.randint(0, 255))\n",
    "    return img\n",
    "rgb_img = img_generator(3, 50, 100)\n",
    "gray_img = img_generator(1, 100, 100)"
   ]
  },
  {
   "cell_type": "code",
   "execution_count": 29,
   "metadata": {},
   "outputs": [
    {
     "name": "stdout",
     "output_type": "stream",
     "text": [
      "[(0, 1, 85), (0, 4, 95), (0, 6, 9), (0, 11, 56), (0, 11, 61), (0, 14, 76), (0, 16, 77), (0, 22, 52), (0, 23, 31), (0, 24, 8), (0, 27, 38), (0, 28, 15), (0, 28, 68), (0, 32, 68), (0, 33, 32), (0, 38, 54), (0, 40, 71), (0, 45, 80), (0, 47, 82), (1, 7, 25), (1, 8, 47), (1, 14, 35), (1, 18, 32), (1, 19, 45), (1, 28, 27), (1, 28, 78), (1, 33, 15), (1, 34, 71), (1, 40, 19), (1, 42, 4), (1, 43, 52), (1, 48, 9), (1, 48, 71), (1, 48, 89), (2, 2, 57), (2, 5, 46), (2, 6, 75), (2, 6, 87), (2, 12, 17), (2, 16, 48), (2, 19, 45), (2, 20, 43), (2, 25, 52), (2, 25, 86), (2, 29, 74), (2, 32, 28), (2, 34, 54), (2, 39, 43), (2, 39, 97), (2, 41, 98), (2, 43, 74), (2, 47, 67)]\n"
     ]
    }
   ],
   "source": [
    "max_list = []\n",
    "for c in range(len(rgb_img)):\n",
    "    for h in range(len(rgb_img[0])):\n",
    "        for w in range(len(rgb_img[0][0])):\n",
    "            if rgb_img[c][h][w] == 255:\n",
    "                max_list.append((c, h, w))\n",
    "print(max_list)"
   ]
  },
  {
   "cell_type": "code",
   "execution_count": 33,
   "metadata": {},
   "outputs": [
    {
     "name": "stdout",
     "output_type": "stream",
     "text": [
      "[129.96439999999996, 128.26520000000005, 127.76059999999998]\n"
     ]
    }
   ],
   "source": [
    "mean_of_channel_list = []\n",
    "for c in range(len(rgb_img)):\n",
    "    channel_mean = 0\n",
    "    for h in range(len(rgb_img[0])):\n",
    "        channel_mean += sum(rgb_img[c][h]) / len(rgb_img[c][h])\n",
    "    channel_mean /= len(rgb_img[0])\n",
    "    mean_of_channel_list.append(channel_mean)\n",
    "print(mean_of_channel_list)"
   ]
  },
  {
   "cell_type": "code",
   "execution_count": 52,
   "metadata": {},
   "outputs": [],
   "source": [
    "inverted_gray_img = []\n",
    "for c in range(1):\n",
    "    inverted_gray_img.append([])\n",
    "    for h in range(100):\n",
    "        inverted_gray_img[c].append([])\n",
    "        for _ in range(100):\n",
    "            inverted_gray_img[c][h].append(None)\n",
    "\n",
    "for h in range(len(gray_img[0])):\n",
    "    for w in range(len(gray_img[0][0])):\n",
    "        px_value = gray_img[0][h][w]\n",
    "        inverted_gray_img[0][h][w] = abs(px_value - 255)"
   ]
  },
  {
   "attachments": {},
   "cell_type": "markdown",
   "metadata": {},
   "source": [
    "### 2. 문자열 처리와 딕셔너리.\n",
    "자연어 처리에서는 문장을 단어로 나누어 토큰화 합니다.  \n",
    "영어 문장을 전처리하는 과정은 다음과 같습니다.  \n",
    "원문: \"I want to go to the park, but it is raining outside.\"\n",
    "1. 소문자로 변환: \"i want to go to the park, but it is raining outside.\"  \n",
    "2. 구두점 제거: \"i want to go to the park but it is raining outside\"\n",
    "3. 불용어 제거: \"want go park raining outside\"\n",
    "4. 토큰화: \"want\", \"go\", \"park\", \"raining\", \"outside\"  \n",
    "  \n",
    "아래 문자열 sentence를 전처리하여 리스트에 담아 반환하는 함수를 구현하시오.  \n",
    "불용어 리스트: stop_words_list  \n",
    "반환된 리스트를 딕셔너리로 저장합니다. 저장형식은 다음과 같습니다.{'문자': 빈도수(정수)}   \n",
    "1. 저장한 후 단어의 어순으로 오름차순 정렬된 딕셔너리와  \n",
    "2. 빈도수로 내림차순 정렬된 딕셔너리를 저장하시오.       \n",
    "3. 빈도수로 정렬된 딕셔너리를 for문을 활용해 'x 번 단어: 단어, 빈도수: 수' 형식으로 한줄씩 출력하시오. (x는 1부터 시작)\n"
   ]
  },
  {
   "cell_type": "code",
   "execution_count": 114,
   "metadata": {},
   "outputs": [],
   "source": [
    "sentence = 'I want to go to the park, but it is raining outside. But the park is so great. go. go. go.'\n",
    "stop_words_list = ['i', 'to', 'the', 'but', 'is', 'it', 'so']"
   ]
  },
  {
   "cell_type": "code",
   "execution_count": 115,
   "metadata": {},
   "outputs": [
    {
     "name": "stdout",
     "output_type": "stream",
     "text": [
      "['want', 'go', 'park', 'raining', 'outside', 'park', 'great', 'go', 'go', 'go']\n"
     ]
    }
   ],
   "source": [
    "def string_preprocess(sentence: str, stop_words_list: list[str]) -> list[str]:\n",
    "    sentence = [word.lower() for word in sentence.split(' ')]\n",
    "    sentence  = [(word if word[-1] not in [',', '.'] else word[:-1])for word in sentence]\n",
    "    sentence = [word for word in sentence if word not in stop_words_list]\n",
    "    return sentence\n",
    "\n",
    "token_list = string_preprocess(sentence, stop_words_list)\n",
    "print(token_list)"
   ]
  },
  {
   "cell_type": "code",
   "execution_count": 116,
   "metadata": {},
   "outputs": [
    {
     "name": "stdout",
     "output_type": "stream",
     "text": [
      "{'want': 1, 'go': 4, 'park': 2, 'raining': 1, 'outside': 1, 'great': 1}\n"
     ]
    }
   ],
   "source": [
    "words_dict = {}\n",
    "for word in token_list:\n",
    "    if word in words_dict:\n",
    "        words_dict[word] += 1\n",
    "    else:\n",
    "        words_dict[word] = 1\n",
    "print(words_dict)"
   ]
  },
  {
   "cell_type": "code",
   "execution_count": 117,
   "metadata": {},
   "outputs": [
    {
     "name": "stdout",
     "output_type": "stream",
     "text": [
      "{'go': 4, 'great': 1, 'outside': 1, 'park': 2, 'raining': 1, 'want': 1}\n"
     ]
    }
   ],
   "source": [
    "sort_by_str_dict = dict(sorted(words_dict.items()))\n",
    "print(sort_by_str_dict)"
   ]
  },
  {
   "cell_type": "code",
   "execution_count": 120,
   "metadata": {},
   "outputs": [
    {
     "name": "stdout",
     "output_type": "stream",
     "text": [
      "{'go': 4, 'park': 2, 'want': 1, 'raining': 1, 'outside': 1, 'great': 1}\n"
     ]
    }
   ],
   "source": [
    "sort_by_frequency_dict = dict(sorted(words_dict.items(), key=lambda x: x[1], reverse=True))\n",
    "print(sort_by_frequency_dict)"
   ]
  },
  {
   "cell_type": "code",
   "execution_count": 121,
   "metadata": {},
   "outputs": [
    {
     "name": "stdout",
     "output_type": "stream",
     "text": [
      "1번 단어: go, 빈도수: 4\n",
      "2번 단어: park, 빈도수: 2\n",
      "3번 단어: want, 빈도수: 1\n",
      "4번 단어: raining, 빈도수: 1\n",
      "5번 단어: outside, 빈도수: 1\n",
      "6번 단어: great, 빈도수: 1\n"
     ]
    }
   ],
   "source": [
    "for idx, item in enumerate(sort_by_frequency_dict.items()):\n",
    "    key, value = item\n",
    "    print(f'{idx + 1}번 단어: {key}, 빈도수: {value}')"
   ]
  },
  {
   "cell_type": "code",
   "execution_count": null,
   "metadata": {},
   "outputs": [],
   "source": []
  }
 ],
 "metadata": {
  "kernelspec": {
   "display_name": "tmp",
   "language": "python",
   "name": "python3"
  },
  "language_info": {
   "codemirror_mode": {
    "name": "ipython",
    "version": 3
   },
   "file_extension": ".py",
   "mimetype": "text/x-python",
   "name": "python",
   "nbconvert_exporter": "python",
   "pygments_lexer": "ipython3",
   "version": "3.10.11"
  },
  "orig_nbformat": 4
 },
 "nbformat": 4,
 "nbformat_minor": 2
}
