{
 "cells": [
  {
   "attachments": {},
   "cell_type": "markdown",
   "metadata": {},
   "source": [
    "### 1. 리스트, 언패킹, 문자열 처리\n",
    "아래 dir_list는 A씨의 작업폴더에 있는 파일의 목록입니다.  \n",
    "리스트는 튜플들로 채워져있는데 튜플은 (파일이름:str, 아이디:int) 형식입니다.  \n",
    "  \n",
    "A씨는 dir_list에 있는 파일을 정리하려합니다. 정리하면서 아이디는 변경되지 않아야 합니다.  \n",
    "  \n",
    "확장자가 png, gif, jpg 인 파일은 img_list에 저장하고,  \n",
    "확장자가 docx, txt인 파일은 text_list에 저장합니다.  \n",
    "png, gif, jpg, docx, txt가 아닌 파일은 to_trash_list에 저장합니다.  \n",
    "  \n",
    "세개의 리스트에 정리한 후 파일의 이름을 다시 지어야 합니다.  \n",
    "  \n",
    "img_list에 있는 파일은 확장자를 유지한 상태로  \n",
    "img_원본이름_1.확장자, img_원본이름_2.확장자, ... img_원본이름_x.확장자 와 같이 변경합니다.  \n",
    "  \n",
    "text_list에 있는 파일은 확장자마다 다른 형식으로 변경합니다.  \n",
    "txt파일의 이름은 텍스트파일_1.txt, 텍스트파일_2.txt 와 같이 변경합니다.  \n",
    "docx 파일의 이름은 워드파일_1.docx, 워드파일_2.docx 와 같이 변경합니다.  \n",
    "\n",
    "최종적인 결과는 아래 결과예시를 참고하세요.  \n",
    "dir_list는 직접 수정할 필요 없이 원상태를 유지해야합니다.\n",
    "\n",
    "---"
   ]
  },
  {
   "attachments": {},
   "cell_type": "markdown",
   "metadata": {},
   "source": [
    "#### 결과\n",
    "img_list  \n",
    "[('img_asfasfasfasfas_1.jpg', 1),  \n",
    " ('img_사진1_2.jpg', 2),  \n",
    " ('img_사진2_3.jpg', 5),  \n",
    " ('img_photo1_4.jpg', 6),  \n",
    " ('img_photo2_5.jpg', 7),  \n",
    " ('img_my_photo_6.png', 11),  \n",
    " ('img_my_dog_7.gif', 12),  \n",
    " ('img_my_cat_8.jpg', 13)]  \n",
    "\n",
    "text_list  \n",
    "[('텍스트파일_1.txt', 3),  \n",
    " ('텍스트파일_2.txt', 4),  \n",
    " ('워드파일_1.docx', 14),  \n",
    " ('워드파일_2.docx', 15),  \n",
    " ('워드파일_3.docx', 16)]  \n",
    "  \n",
    "to_trash_list  \n",
    "[('.git', 8),  \n",
    " ('auto_submit.sh', 9),  \n",
    " ('.gitignore', 10)]\n",
    "\n",
    "---\n"
   ]
  },
  {
   "cell_type": "code",
   "execution_count": null,
   "metadata": {},
   "outputs": [],
   "source": [
    "dir_list = [\n",
    "    ('asfasfasfasfas.jpg', 1),\n",
    "    ('사진1.jpg', 2),\n",
    "    ('메모1.txt', 3),\n",
    "    ('메모1 (2).txt', 4),\n",
    "    ('사진2.jpg', 5),\n",
    "    ('photo1.jpg', 6),\n",
    "    ('photo2.jpg', 7),\n",
    "    ('.git', 8),\n",
    "    ('auto_submit.sh', 9),\n",
    "    ('.gitignore', 10),\n",
    "    ('my_photo.png', 11),\n",
    "    ('my_dog.gif', 12),\n",
    "    ('my_cat.jpg', 13),\n",
    "    ('보고서.docx', 14),\n",
    "    ('보고서_최종.docx', 15),\n",
    "    ('보고서_final_final.docx', 16),\n",
    "]\n",
    "\n",
    "img_list = []\n",
    "text_list = []\n",
    "to_trash_list = []"
   ]
  }
 ],
 "metadata": {
  "kernelspec": {
   "display_name": "tmp",
   "language": "python",
   "name": "python3"
  },
  "language_info": {
   "codemirror_mode": {
    "name": "ipython",
    "version": 3
   },
   "file_extension": ".py",
   "mimetype": "text/x-python",
   "name": "python",
   "nbconvert_exporter": "python",
   "pygments_lexer": "ipython3",
   "version": "3.10.11"
  },
  "orig_nbformat": 4
 },
 "nbformat": 4,
 "nbformat_minor": 2
}
