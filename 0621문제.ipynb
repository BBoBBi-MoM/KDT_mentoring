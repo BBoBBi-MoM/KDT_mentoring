{
 "cells": [
  {
   "attachments": {},
   "cell_type": "markdown",
   "metadata": {},
   "source": [
    "### 1. 리스트와 반복문의 이해\n",
    "컬러 이미지는 3차원의 정보(channel x height x width)를 담고 있습니다.  \n",
    "아래 제공된 rgb_img는 첫번째 차원에 체널을 두번째 차원에 높이, 세번째 차원에 폭의 정보를 담고 있습니다.(3x50x100)  \n",
    "gray_img는 [[[...], [...], [...], ..., [...]]] 과 같은 구조의 1체널 이미지입니다.(1x100x100)  \n",
    "(img[0]: 첫번째 체널, img[2]: 세번째 차원, img[c][10]: c체널의 11번째 행, img[c][h][w]: c체널에서 h행과 w열이 교차하는 픽셀 값 하나)\n",
    "* rgb_img에서 255값을 가지는 위치(인덱스)를 (체널, 높이, 폭) 형식의 튜플로 리스트에 저장하시오.\n",
    "* rgb_img의 각 체널별로 평균을 구하고 리스트에 저장하시오.\n",
    "* 새로운 배열(리스트)를 만들어 gray_img의 색을 반전한 후 저장하시오. (0->255, 1->254, 2->253, ...,  254->1, 255->0)\n",
    "\n",
    "\n",
    "---"
   ]
  },
  {
   "cell_type": "code",
   "execution_count": 28,
   "metadata": {},
   "outputs": [],
   "source": [
    "import random\n",
    "random.seed('20230621')\n",
    "def img_generator(channel: int, height: int, width: int):\n",
    "    img = []\n",
    "    for c in range(channel):\n",
    "        img.append([])\n",
    "        for h in range(height):\n",
    "            img[c].append([])\n",
    "            for _ in range(width):\n",
    "                img[c][h].append(random.randint(0, 255))\n",
    "    return img\n",
    "rgb_img = img_generator(3, 50, 100)\n",
    "gray_img = img_generator(1, 100, 100)"
   ]
  },
  {
   "attachments": {},
   "cell_type": "markdown",
   "metadata": {},
   "source": [
    "### 2. 문자열 처리와 딕셔너리.\n",
    "자연어 처리에서는 문장을 단어로 나누어 토큰화 합니다.  \n",
    "영어 문장을 전처리하는 과정은 다음과 같습니다.  \n",
    "원문: \"I want to go to the park, but it is raining outside.\"\n",
    "1. 소문자로 변환: \"i want to go to the park, but it is raining outside.\"  \n",
    "2. 구두점 제거: \"i want to go to the park but it is raining outside\"\n",
    "3. 불용어 제거: \"want go park raining outside\"\n",
    "4. 토큰화: \"want\", \"go\", \"park\", \"raining\", \"outside\"  \n",
    "  \n",
    "아래 문자열 sentence를 전처리하여 리스트에 담아 반환하는 함수를 구현하시오.  \n",
    "불용어 리스트: stop_words_list  \n",
    "반환된 리스트를 딕셔너리로 저장합니다. 저장형식은 다음과 같습니다.{'문자': 빈도수(정수)}   \n",
    "1. 저장한 후 단어의 어순으로 오름차순 정렬된 딕셔너리와  \n",
    "2. 빈도수로 내림차순 정렬된 딕셔너리를 저장하시오.       \n",
    "3. 빈도수로 정렬된 딕셔너리를 for문을 활용해 'x 번 단어: 단어, 빈도수: 수' 형식으로 한줄씩 출력하시오. (x는 1부터 시작)\n"
   ]
  },
  {
   "cell_type": "code",
   "execution_count": 87,
   "metadata": {},
   "outputs": [],
   "source": [
    "sentence = 'I want to go to the park, but it is raining outside. But the park is so great. go. go. go.'\n",
    "stop_words_list = ['i', 'to', 'the', 'but', 'is', 'it', 'so']"
   ]
  }
 ],
 "metadata": {
  "kernelspec": {
   "display_name": "tmp",
   "language": "python",
   "name": "python3"
  },
  "language_info": {
   "codemirror_mode": {
    "name": "ipython",
    "version": 3
   },
   "file_extension": ".py",
   "mimetype": "text/x-python",
   "name": "python",
   "nbconvert_exporter": "python",
   "pygments_lexer": "ipython3",
   "version": "3.10.11"
  },
  "orig_nbformat": 4
 },
 "nbformat": 4,
 "nbformat_minor": 2
}
