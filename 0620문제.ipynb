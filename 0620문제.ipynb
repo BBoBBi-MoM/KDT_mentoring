{
 "cells": [
  {
   "attachments": {},
   "cell_type": "markdown",
   "metadata": {},
   "source": [
    "---\n",
    "### 1. 반복문과 조건문\n",
    "리스트 컴프리헨션과 %연산자를 활용하여 1부터 100까지의 숫자 중 1의 자리수가 2이거나 5인 숫자를 리스트에 저장하시오.\n",
    "  \n",
    "---"
   ]
  },
  {
   "cell_type": "code",
   "execution_count": null,
   "metadata": {},
   "outputs": [],
   "source": []
  },
  {
   "attachments": {},
   "cell_type": "markdown",
   "metadata": {},
   "source": [
    "---\n",
    "### 2. 함수와 반복문 활용\n",
    "0 이상의 정수 K를 함수로 입력받아 K!(팩토리얼)을 계산하여 반환하는 함수를 구현하시오.  \n",
    "반환된 값을 변수에 저장하여 print 함수로 출력하시오\n",
    "  \n",
    "---"
   ]
  },
  {
   "cell_type": "code",
   "execution_count": null,
   "metadata": {},
   "outputs": [],
   "source": []
  },
  {
   "attachments": {},
   "cell_type": "markdown",
   "metadata": {},
   "source": [
    "---\n",
    "### 3. 이중 for문 활용\n",
    "이중 for문을 활용하여 구구단을 아래 예시와 같이 출력하시오.\n",
    "  \n",
    "---"
   ]
  },
  {
   "attachments": {},
   "cell_type": "markdown",
   "metadata": {},
   "source": [
    "1단: (1 * 1 =  1)  (1 * 2 =  2)  (1 * 3 =  3)  (1 * 4 =  4)  (1 * 5 =  5)  (1 * 6 =  6)  (1 * 7 =  7)  (1 * 8 =  8)  (1 * 9 =  9)  \n",
    "2단: (2 * 1 =  2)  (2 * 2 =  4)  (2 * 3 =  6)  (2 * 4 =  8)  (2 * 5 = 10)  (2 * 6 = 12)  (2 * 7 = 14)  (2 * 8 = 16)  (2 * 9 = 18)  \n",
    "3단: (3 * 1 =  3)  (3 * 2 =  6)  (3 * 3 =  9)  (3 * 4 = 12)  (3 * 5 = 15)  (3 * 6 = 18)  (3 * 7 = 21)  (3 * 8 = 24)  (3 * 9 = 27)  \n",
    "4단: (4 * 1 =  4)  (4 * 2 =  8)  (4 * 3 = 12)  (4 * 4 = 16)  (4 * 5 = 20)  (4 * 6 = 24)  (4 * 7 = 28)  (4 * 8 = 32)  (4 * 9 = 36)  \n",
    "5단: (5 * 1 =  5)  (5 * 2 = 10)  (5 * 3 = 15)  (5 * 4 = 20)  (5 * 5 = 25)  (5 * 6 = 30)  (5 * 7 = 35)  (5 * 8 = 40)  (5 * 9 = 45)  \n",
    "6단: (6 * 1 =  6)  (6 * 2 = 12)  (6 * 3 = 18)  (6 * 4 = 24)  (6 * 5 = 30)  (6 * 6 = 36)  (6 * 7 = 42)  (6 * 8 = 48)  (6 * 9 = 54)  \n",
    "7단: (7 * 1 =  7)  (7 * 2 = 14)  (7 * 3 = 21)  (7 * 4 = 28)  (7 * 5 = 35)  (7 * 6 = 42)  (7 * 7 = 49)  (7 * 8 = 56)  (7 * 9 = 63)  \n",
    "8단: (8 * 1 =  8)  (8 * 2 = 16)  (8 * 3 = 24)  (8 * 4 = 32)  (8 * 5 = 40)  (8 * 6 = 48)  (8 * 7 = 56)  (8 * 8 = 64)  (8 * 9 = 72)  \n",
    "9단: (9 * 1 =  9)  (9 * 2 = 18)  (9 * 3 = 27)  (9 * 4 = 36)  (9 * 5 = 45)  (9 * 6 = 54)  (9 * 7 = 63)  (9 * 8 = 72)  (9 * 9 = 81)  \n",
    "  \n",
    "---"
   ]
  },
  {
   "cell_type": "code",
   "execution_count": null,
   "metadata": {},
   "outputs": [],
   "source": []
  },
  {
   "attachments": {},
   "cell_type": "markdown",
   "metadata": {},
   "source": [
    "---\n",
    "### 4. 조건문과 함수\n",
    "시간(0~23) 분(0~59)을 입력받아 입력받은 시간보다 30분 이후의 시간을 'x시 xx 분'  형식으로 출력하는 함수를 구현하시오.  \n",
    "함수의 반환은 없고 출력만 합니다.  \n",
    "\n",
    "---\n",
    "\n"
   ]
  },
  {
   "cell_type": "code",
   "execution_count": null,
   "metadata": {},
   "outputs": [],
   "source": []
  },
  {
   "attachments": {},
   "cell_type": "markdown",
   "metadata": {},
   "source": [
    "--- \n",
    "### 5. 이중배열과 조건문 while문 input함수 활용.\n",
    "양의 정수 n을 입력받아 n x n 크기의  'o'(알파벳 소문자 o)로 채워진 이중배열로 저장합니다.  \n",
    "while 문으로 좌표를 5,3과 같이 입력받아 'o'를 'x'로 바꾸고 이중 배열을 아래 예시와 같이 출력합니다.  \n",
    "좌표 5,3 은 5행 3열을 의미합니다.  \n",
    "만약 입력받은 좌표가 이미 'x'이거나 범위를 초과한다면 '잘못된 입력입니다'를 출력하고 좌표를 다시 입력받습니다.  \n",
    "좌표 대신 'q'나 'Q'를 입력받는다면 '종료합니다'를 출력하고 반복문에서 탈출합니다.  \n",
    "'x,y'(x,y는 자연수) 형식의 입력이나 'q','Q'이외의 입력은 없습니다.\n",
    "  \n"
   ]
  },
  {
   "attachments": {},
   "cell_type": "markdown",
   "metadata": {},
   "source": [
    "예시)  \n",
    "3입력 1,1 입력  \n",
    "x o o  \n",
    "o o o  \n",
    "o o o  \n",
    "1,2 입력  \n",
    "x x o  \n",
    "o o o  \n",
    "o o o  \n",
    "1,1 입력  \n",
    "잘못된 입력입니다.  \n",
    "q 입력  \n",
    "종료합니다.  \n",
    "  \n",
    "---\n"
   ]
  },
  {
   "attachments": {},
   "cell_type": "markdown",
   "metadata": {},
   "source": []
  }
 ],
 "metadata": {
  "kernelspec": {
   "display_name": "Python 3",
   "language": "python",
   "name": "python3"
  },
  "language_info": {
   "codemirror_mode": {
    "name": "ipython",
    "version": 3
   },
   "file_extension": ".py",
   "mimetype": "text/x-python",
   "name": "python",
   "nbconvert_exporter": "python",
   "pygments_lexer": "ipython3",
   "version": "3.10.11"
  },
  "orig_nbformat": 4
 },
 "nbformat": 4,
 "nbformat_minor": 2
}
